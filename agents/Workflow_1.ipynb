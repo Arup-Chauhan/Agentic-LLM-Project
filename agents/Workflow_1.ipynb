{
 "cells": [
  {
   "cell_type": "markdown",
   "id": "d9d2453c",
   "metadata": {},
   "source": [
    "# WORKFLOW 1.1 : LLM Agents + Tool Use (Yelp API)"
   ]
  },
  {
   "cell_type": "markdown",
   "id": "908fd89d",
   "metadata": {},
   "source": [
    "## 1.1.1 Tool for the agent"
   ]
  },
  {
   "cell_type": "code",
   "execution_count": 2,
   "id": "54e1255e",
   "metadata": {},
   "outputs": [],
   "source": [
    "# Import the modules\n",
    "import requests\n",
    "import json\n",
    "import os"
   ]
  },
  {
   "cell_type": "code",
   "execution_count": 12,
   "id": "c6d3cb73",
   "metadata": {},
   "outputs": [
    {
     "data": {
      "text/plain": [
       "True"
      ]
     },
     "execution_count": 12,
     "metadata": {},
     "output_type": "execute_result"
    }
   ],
   "source": [
    "# Load env\n",
    "from dotenv import load_dotenv, find_dotenv\n",
    "load_dotenv(find_dotenv(), override=True)"
   ]
  },
  {
   "cell_type": "code",
   "execution_count": 4,
   "id": "54be04b3",
   "metadata": {},
   "outputs": [],
   "source": [
    "# Define my API Key, My Endpoint, and My Header\n",
    "YELP_API_KEY = os.environ['YELP_API_KEY']\n",
    "ENDPOINT = 'https://api.yelp.com/v3/businesses/search'\n",
    "HEADERS = {'Authorization': 'bearer %s' % YELP_API_KEY}"
   ]
  },
  {
   "cell_type": "code",
   "execution_count": 6,
   "id": "d1efbee3",
   "metadata": {},
   "outputs": [],
   "source": [
    "from typing_extensions import Annotated\n",
    "\n",
    "def get_places(\n",
    "    term: Annotated[str, \"A keyword or search term to use to search for places with this term\"], \n",
    "    location: Annotated[str, \"a string which is the user's current location\"], \n",
    "    radius: Annotated[int, \"the radius in metres to provide the places result for\"]\n",
    "    ) -> Annotated[str, \"Results in json format\"]:\n",
    "    \n",
    "    # Define my parameters of the search\n",
    "    # BUSINESS SEARCH PARAMETERS - EXAMPLE\n",
    "    PARAMETERS = {'term': term,\n",
    "                 'limit': 10,\n",
    "                 'offset': 10,\n",
    "                 'radius': radius,\n",
    "                 'location': location,\n",
    "    #              'latitude': 41.836609,\n",
    "    #              'longitude': -87.616276,\n",
    "    #              'sort_by':'distance',\n",
    "                 }\n",
    "    # Make a request to the Yelp API\n",
    "    response = requests.get(url = ENDPOINT,\n",
    "                        params = PARAMETERS,\n",
    "                        headers = HEADERS)\n",
    "    return response.json()"
   ]
  },
  {
   "cell_type": "markdown",
   "id": "1744e764",
   "metadata": {},
   "source": [
    "## 1.1.2 Building the Agentic Workflow"
   ]
  },
  {
   "cell_type": "markdown",
   "id": "760d26a0",
   "metadata": {},
   "source": [
    "### Creating Agents"
   ]
  },
  {
   "cell_type": "code",
   "execution_count": 14,
   "id": "9a1aa1ef",
   "metadata": {},
   "outputs": [],
   "source": [
    "from autogen import ConversableAgent\n",
    "\n",
    "# Let's first define the assistant agent that suggests tool calls.\n",
    "travel_agent = ConversableAgent(\n",
    "    name=\"Agent\",\n",
    "    system_message=\"You are a helpful AI food & travel assistant. \"\n",
    "    \"You can help with getting relevant places based on the users query. You will suggest a tool to complete the query.\"\n",
    "    \"You will ask the required data or arguements required for the function if the user has not already given it.\"\n",
    "    \"You will give the final answer to the user in the form of a list, where each entry is of the format 'name', 'distance'\"\n",
    "    \"Do not display additional information until asked by the user\"\n",
    "    \"Return 'TERMINATE' when the task is done.\",\n",
    "    llm_config={\"config_list\": [{\"model\": \"gpt-4o-mini\", \"api_key\": os.environ[\"OPENAI_API_KEY\"]}]},\n",
    ")\n",
    "\n",
    "# The user proxy agent is used for interacting with the assistant agent\n",
    "# and executes tool calls.\n",
    "user_proxy = ConversableAgent(\n",
    "    name=\"User\",\n",
    "    llm_config=False,\n",
    "    is_termination_msg=lambda msg: msg.get(\"content\") is not None and \"TERMINATE\" in msg[\"content\"],\n",
    "    human_input_mode=\"ALWAYS\",\n",
    ")"
   ]
  },
  {
   "cell_type": "markdown",
   "id": "05e52d92",
   "metadata": {},
   "source": [
    "### Register Tool"
   ]
  },
  {
   "cell_type": "code",
   "execution_count": 9,
   "id": "f35e48f1",
   "metadata": {},
   "outputs": [],
   "source": [
    "from autogen import register_function\n",
    "\n",
    "# Register the function to the two agents.\n",
    "register_function(\n",
    "    get_places,\n",
    "    caller=travel_agent,  # The assistant agent can suggest calls to the calculator.\n",
    "    executor=user_proxy,  # The user proxy agent can execute the calculator calls.\n",
    "    name=\"get_places\",    # By default, the function name is used as the tool name.\n",
    "    description=\"\"\"\n",
    "                    A function used to return the places in a json formatted file, based on the user's query. \n",
    "                    The arguements are,\n",
    "                    term - the keyword or search term to use to search for places with this term;\n",
    "                    location - a string which is the user's current location;\n",
    "                    radius - the radius in metres to provide the places result for;\n",
    "                \"\"\",  # A description of the tool.\n",
    ")"
   ]
  },
  {
   "cell_type": "markdown",
   "id": "57e28e43",
   "metadata": {},
   "source": [
    "### Run the Workflow"
   ]
  },
  {
   "cell_type": "code",
   "execution_count": 10,
   "id": "581357d6",
   "metadata": {},
   "outputs": [
    {
     "name": "stdout",
     "output_type": "stream",
     "text": [
      "\u001b[33mUser\u001b[0m (to Agent):\n",
      "\n",
      "Give me burger places within 1200 metres\n",
      "\n",
      "--------------------------------------------------------------------------------\n",
      "\u001b[31m\n",
      ">>>>>>>> USING AUTO REPLY...\u001b[0m\n",
      "\u001b[33mAgent\u001b[0m (to User):\n",
      "\n",
      "Please provide me with your current location so I can find burger places within 1200 metres.\n",
      "\n",
      "--------------------------------------------------------------------------------\n",
      "Provide feedback to Agent. Press enter to skip and use auto-reply, or type 'exit' to end the conversation: 401 East, 32nd Street, Chicago\n",
      "\u001b[33mUser\u001b[0m (to Agent):\n",
      "\n",
      "401 East, 32nd Street, Chicago\n",
      "\n",
      "--------------------------------------------------------------------------------\n",
      "\u001b[31m\n",
      ">>>>>>>> USING AUTO REPLY...\u001b[0m\n",
      "\u001b[33mAgent\u001b[0m (to User):\n",
      "\n",
      "\u001b[32m***** Suggested tool call (call_qVBHW0dofCnHswJVSVDHCVGv): get_places *****\u001b[0m\n",
      "Arguments: \n",
      "{\"term\":\"burger\",\"location\":\"401 East, 32nd Street, Chicago\",\"radius\":1200}\n",
      "\u001b[32m***************************************************************************\u001b[0m\n",
      "\n",
      "--------------------------------------------------------------------------------\n",
      "Provide feedback to Agent. Press enter to skip and use auto-reply, or type 'exit' to end the conversation: \n",
      "\u001b[31m\n",
      ">>>>>>>> NO HUMAN INPUT RECEIVED.\u001b[0m\n",
      "\u001b[31m\n",
      ">>>>>>>> USING AUTO REPLY...\u001b[0m\n",
      "\u001b[35m\n",
      ">>>>>>>> EXECUTING FUNCTION get_places...\u001b[0m\n",
      "\u001b[33mUser\u001b[0m (to Agent):\n",
      "\n",
      "\u001b[33mUser\u001b[0m (to Agent):\n",
      "\n",
      "\u001b[32m***** Response from calling tool (call_qVBHW0dofCnHswJVSVDHCVGv) *****\u001b[0m\n",
      "{\"businesses\": [{\"id\": \"NALElpvTzzbZrgprVwdptg\", \"alias\": \"woods-food-and-liquor-chicago\", \"name\": \"Wood's Food and Liquor\", \"image_url\": \"https://s3-media2.fl.yelpcdn.com/bphoto/GUuTMQluXkVoPL3PVOPq2w/o.jpg\", \"is_closed\": false, \"url\": \"https://www.yelp.com/biz/woods-food-and-liquor-chicago?adjust_creative=k0ghT686iHsnsYEMwmsJPA&utm_campaign=yelp_api_v3&utm_medium=api_v3_business_search&utm_source=k0ghT686iHsnsYEMwmsJPA\", \"review_count\": 1, \"categories\": [{\"alias\": \"beer_and_wine\", \"title\": \"Beer, Wine & Spirits\"}], \"rating\": 1.0, \"coordinates\": {\"latitude\": 41.8311949, \"longitude\": -87.6215599}, \"transactions\": [\"delivery\", \"pickup\"], \"price\": \"$\", \"location\": {\"address1\": \"200 E 35th St\", \"address2\": \"\", \"address3\": \"\", \"city\": \"Chicago\", \"zip_code\": \"60616\", \"country\": \"US\", \"state\": \"IL\", \"display_address\": [\"200 E 35th St\", \"Chicago, IL 60616\"]}, \"phone\": \"+13128429130\", \"display_phone\": \"(312) 842-9130\", \"distance\": 730.981835394408, \"business_hours\": [{\"open\": [{\"is_overnight\": false, \"start\": \"0800\", \"end\": \"2300\", \"day\": 0}, {\"is_overnight\": false, \"start\": \"0800\", \"end\": \"2300\", \"day\": 1}, {\"is_overnight\": false, \"start\": \"0800\", \"end\": \"2300\", \"day\": 2}, {\"is_overnight\": false, \"start\": \"0800\", \"end\": \"2300\", \"day\": 3}, {\"is_overnight\": false, \"start\": \"0800\", \"end\": \"2300\", \"day\": 4}, {\"is_overnight\": false, \"start\": \"0800\", \"end\": \"2300\", \"day\": 5}, {\"is_overnight\": false, \"start\": \"1100\", \"end\": \"2300\", \"day\": 6}], \"hours_type\": \"REGULAR\", \"is_open_now\": true}], \"attributes\": {\"business_temp_closed\": null, \"menu_url\": null, \"waitlist_reservation\": null}}, {\"id\": \"rFrkCLqX53o1qWyrEQimfQ\", \"alias\": \"7-eleven-chicago-12\", \"name\": \"7-Eleven\", \"image_url\": \"https://s3-media1.fl.yelpcdn.com/bphoto/I5T8S1BWdlEaY1-lTXQaBA/o.jpg\", \"is_closed\": false, \"url\": \"https://www.yelp.com/biz/7-eleven-chicago-12?adjust_creative=k0ghT686iHsnsYEMwmsJPA&utm_campaign=yelp_api_v3&utm_medium=api_v3_business_search&utm_source=k0ghT686iHsnsYEMwmsJPA\", \"review_count\": 14, \"categories\": [{\"alias\": \"convenience\", \"title\": \"Convenience Stores\"}, {\"alias\": \"coffee\", \"title\": \"Coffee & Tea\"}], \"rating\": 1.8, \"coordinates\": {\"latitude\": 41.83515956387671, \"longitude\": -87.62617391381887}, \"transactions\": [\"delivery\", \"pickup\"], \"price\": \"$\", \"location\": {\"address1\": \"3201 S State St Ste 720\", \"address2\": \"Ste 720\", \"address3\": \"\", \"city\": \"Chicago\", \"zip_code\": \"60616\", \"country\": \"US\", \"state\": \"IL\", \"display_address\": [\"3201 S State St Ste 720\", \"Ste 720\", \"Chicago, IL 60616\"]}, \"phone\": \"+13127910206\", \"display_phone\": \"(312) 791-0206\", \"distance\": 843.5320302880342, \"business_hours\": [{\"open\": [{\"is_overnight\": true, \"start\": \"0000\", \"end\": \"0000\", \"day\": 0}, {\"is_overnight\": true, \"start\": \"0000\", \"end\": \"0000\", \"day\": 1}, {\"is_overnight\": true, \"start\": \"0000\", \"end\": \"0000\", \"day\": 2}, {\"is_overnight\": true, \"start\": \"0000\", \"end\": \"0000\", \"day\": 3}, {\"is_overnight\": true, \"start\": \"0000\", \"end\": \"0000\", \"day\": 4}, {\"is_overnight\": true, \"start\": \"0000\", \"end\": \"0000\", \"day\": 5}, {\"is_overnight\": true, \"start\": \"0000\", \"end\": \"0000\", \"day\": 6}], \"hours_type\": \"REGULAR\", \"is_open_now\": true}], \"attributes\": {\"business_temp_closed\": null, \"menu_url\": null, \"waitlist_reservation\": null}}, {\"id\": \"5cAFT8IvsJhB0MFQKGHgqw\", \"alias\": \"white-castle-chicago\", \"name\": \"White Castle\", \"image_url\": \"https://s3-media1.fl.yelpcdn.com/bphoto/_fi42mkSWO65fZYN1SkAVw/o.jpg\", \"is_closed\": false, \"url\": \"https://www.yelp.com/biz/white-castle-chicago?adjust_creative=k0ghT686iHsnsYEMwmsJPA&utm_campaign=yelp_api_v3&utm_medium=api_v3_business_search&utm_source=k0ghT686iHsnsYEMwmsJPA\", \"review_count\": 36, \"categories\": [{\"alias\": \"hotdogs\", \"title\": \"Fast Food\"}, {\"alias\": \"burgers\", \"title\": \"Burgers\"}], \"rating\": 2.3, \"coordinates\": {\"latitude\": 41.8319106, \"longitude\": -87.6168074}, \"transactions\": [\"delivery\", \"pickup\"], \"price\": \"$\", \"location\": {\"address1\": \"3457 S King Dr\", \"address2\": \"\", \"address3\": \"\", \"city\": \"Chicago\", \"zip_code\": \"60616\", \"country\": \"US\", \"state\": \"IL\", \"display_address\": [\"3457 S King Dr\", \"Chicago, IL 60616\"]}, \"phone\": \"+17732680922\", \"display_phone\": \"(773) 268-0922\", \"distance\": 548.7907840071641, \"business_hours\": [{\"open\": [{\"is_overnight\": true, \"start\": \"0500\", \"end\": \"0500\", \"day\": 0}, {\"is_overnight\": true, \"start\": \"0500\", \"end\": \"0500\", \"day\": 1}, {\"is_overnight\": true, \"start\": \"0500\", \"end\": \"0500\", \"day\": 2}, {\"is_overnight\": true, \"start\": \"0500\", \"end\": \"0500\", \"day\": 3}, {\"is_overnight\": true, \"start\": \"0500\", \"end\": \"0500\", \"day\": 4}, {\"is_overnight\": true, \"start\": \"0500\", \"end\": \"0500\", \"day\": 5}, {\"is_overnight\": true, \"start\": \"0500\", \"end\": \"0500\", \"day\": 6}], \"hours_type\": \"REGULAR\", \"is_open_now\": true}], \"attributes\": {\"business_temp_closed\": null, \"menu_url\": \"http://www.whitecastle.com/food/menu\", \"open24_hours\": null, \"waitlist_reservation\": null}}, {\"id\": \"8An1J0868YXwrSu7TuikSg\", \"alias\": \"best-southtown-gyro-chicago\", \"name\": \"Best Southtown Gyro\", \"image_url\": \"https://s3-media2.fl.yelpcdn.com/bphoto/qZ8SQ12-Ieu_CEanabs9jQ/o.jpg\", \"is_closed\": false, \"url\": \"https://www.yelp.com/biz/best-southtown-gyro-chicago?adjust_creative=k0ghT686iHsnsYEMwmsJPA&utm_campaign=yelp_api_v3&utm_medium=api_v3_business_search&utm_source=k0ghT686iHsnsYEMwmsJPA\", \"review_count\": 5, \"categories\": [{\"alias\": \"sandwiches\", \"title\": \"Sandwiches\"}, {\"alias\": \"hotdog\", \"title\": \"Hot Dogs\"}, {\"alias\": \"burgers\", \"title\": \"Burgers\"}], \"rating\": 3.4, \"coordinates\": {\"latitude\": 41.83124, \"longitude\": -87.62017}, \"transactions\": [\"delivery\"], \"location\": {\"address1\": \"240 E 35th St\", \"address2\": \"\", \"address3\": null, \"city\": \"Chicago\", \"zip_code\": \"60616\", \"country\": \"US\", \"state\": \"IL\", \"display_address\": [\"240 E 35th St\", \"Chicago, IL 60616\"]}, \"phone\": \"+13125263959\", \"display_phone\": \"(312) 526-3959\", \"distance\": 668.1169555816006, \"business_hours\": [], \"attributes\": {\"business_temp_closed\": null, \"menu_url\": null, \"open24_hours\": null, \"waitlist_reservation\": null}}, {\"id\": \"1GQTlKDg6H3YW2WgZT4pIQ\", \"alias\": \"morrisons-soul-food-chicago\", \"name\": \"Morrison's Soul Food\", \"image_url\": \"https://s3-media1.fl.yelpcdn.com/bphoto/keqR10QYUon5hEpNfei4tQ/o.jpg\", \"is_closed\": false, \"url\": \"https://www.yelp.com/biz/morrisons-soul-food-chicago?adjust_creative=k0ghT686iHsnsYEMwmsJPA&utm_campaign=yelp_api_v3&utm_medium=api_v3_business_search&utm_source=k0ghT686iHsnsYEMwmsJPA\", \"review_count\": 12, \"categories\": [{\"alias\": \"soulfood\", \"title\": \"Soul Food\"}, {\"alias\": \"southern\", \"title\": \"Southern\"}], \"rating\": 1.8, \"coordinates\": {\"latitude\": 41.846547928822325, \"longitude\": -87.62523708924468}, \"transactions\": [], \"location\": {\"address1\": \"2537 S Wabash\", \"address2\": null, \"address3\": \"\", \"city\": \"Chicago\", \"zip_code\": \"60616\", \"country\": \"US\", \"state\": \"IL\", \"display_address\": [\"2537 S Wabash\", \"Chicago, IL 60616\"]}, \"phone\": \"+18726008243\", \"display_phone\": \"(872) 600-8243\", \"distance\": 1353.1587690354393, \"business_hours\": [{\"open\": [{\"is_overnight\": false, \"start\": \"1200\", \"end\": \"2100\", \"day\": 0}, {\"is_overnight\": false, \"start\": \"1200\", \"end\": \"2100\", \"day\": 2}, {\"is_overnight\": false, \"start\": \"1200\", \"end\": \"2100\", \"day\": 3}, {\"is_overnight\": false, \"start\": \"1200\", \"end\": \"2100\", \"day\": 4}, {\"is_overnight\": false, \"start\": \"1400\", \"end\": \"2100\", \"day\": 5}, {\"is_overnight\": false, \"start\": \"1400\", \"end\": \"2100\", \"day\": 6}], \"hours_type\": \"REGULAR\", \"is_open_now\": true}], \"attributes\": {\"business_temp_closed\": null, \"menu_url\": \"https://www.morrisonsoulfood.com/menu\", \"open24_hours\": null, \"waitlist_reservation\": null}}, {\"id\": \"lDi0smD5jzxcKmdNc09uPA\", \"alias\": \"mcdonalds-chicago-11\", \"name\": \"McDonald's\", \"image_url\": \"https://s3-media4.fl.yelpcdn.com/bphoto/clN6jjS2IPp3z5iWFtV8DA/o.jpg\", \"is_closed\": false, \"url\": \"https://www.yelp.com/biz/mcdonalds-chicago-11?adjust_creative=k0ghT686iHsnsYEMwmsJPA&utm_campaign=yelp_api_v3&utm_medium=api_v3_business_search&utm_source=k0ghT686iHsnsYEMwmsJPA\", \"review_count\": 77, \"categories\": [{\"alias\": \"hotdogs\", \"title\": \"Fast Food\"}, {\"alias\": \"burgers\", \"title\": \"Burgers\"}, {\"alias\": \"coffee\", \"title\": \"Coffee & Tea\"}], \"rating\": 1.5, \"coordinates\": {\"latitude\": 41.847087635338, \"longitude\": -87.6167515618908}, \"transactions\": [\"delivery\"], \"price\": \"$\", \"location\": {\"address1\": \"2525 S Martin Luther King Dr\", \"address2\": \"\", \"address3\": \"\", \"city\": \"Chicago\", \"zip_code\": \"60616\", \"country\": \"US\", \"state\": \"IL\", \"display_address\": [\"2525 S Martin Luther King Dr\", \"Chicago, IL 60616\"]}, \"phone\": \"+13128428643\", \"display_phone\": \"(312) 842-8643\", \"distance\": 1184.9065275785654, \"business_hours\": [{\"open\": [{\"is_overnight\": true, \"start\": \"0000\", \"end\": \"0000\", \"day\": 0}, {\"is_overnight\": true, \"start\": \"0000\", \"end\": \"0000\", \"day\": 1}, {\"is_overnight\": true, \"start\": \"0000\", \"end\": \"0000\", \"day\": 2}, {\"is_overnight\": true, \"start\": \"0000\", \"end\": \"0000\", \"day\": 3}, {\"is_overnight\": true, \"start\": \"0000\", \"end\": \"0000\", \"day\": 4}, {\"is_overnight\": true, \"start\": \"0000\", \"end\": \"0000\", \"day\": 5}, {\"is_overnight\": true, \"start\": \"0000\", \"end\": \"0000\", \"day\": 6}], \"hours_type\": \"REGULAR\", \"is_open_now\": true}], \"attributes\": {\"business_temp_closed\": null, \"menu_url\": \"https://www.mcdonalds.com/us/en-us/full-menu.html?cid=PS:GCM_MOP:NB::Yelp:All\", \"open24_hours\": null, \"waitlist_reservation\": null}}, {\"id\": \"sBxYcEF4BSJPJL72SthG0g\", \"alias\": \"mcdonalds-chicago-10\", \"name\": \"McDonald's\", \"image_url\": \"https://s3-media3.fl.yelpcdn.com/bphoto/E3iNEM7kK__RdKNYe-R8tQ/o.jpg\", \"is_closed\": false, \"url\": \"https://www.yelp.com/biz/mcdonalds-chicago-10?adjust_creative=k0ghT686iHsnsYEMwmsJPA&utm_campaign=yelp_api_v3&utm_medium=api_v3_business_search&utm_source=k0ghT686iHsnsYEMwmsJPA\", \"review_count\": 56, \"categories\": [{\"alias\": \"burgers\", \"title\": \"Burgers\"}, {\"alias\": \"hotdogs\", \"title\": \"Fast Food\"}, {\"alias\": \"coffee\", \"title\": \"Coffee & Tea\"}], \"rating\": 1.3, \"coordinates\": {\"latitude\": 41.830834411206, \"longitude\": -87.621166179897}, \"transactions\": [\"delivery\"], \"price\": \"$\", \"location\": {\"address1\": \"207 E 35th St\", \"address2\": \"\", \"address3\": \"\", \"city\": \"Chicago\", \"zip_code\": \"60653\", \"country\": \"US\", \"state\": \"IL\", \"display_address\": [\"207 E 35th St\", \"Chicago, IL 60653\"]}, \"phone\": \"+13128423986\", \"display_phone\": \"(312) 842-3986\", \"distance\": 749.8048095707461, \"business_hours\": [{\"open\": [{\"is_overnight\": true, \"start\": \"0000\", \"end\": \"0000\", \"day\": 0}, {\"is_overnight\": true, \"start\": \"0000\", \"end\": \"0000\", \"day\": 1}, {\"is_overnight\": true, \"start\": \"0000\", \"end\": \"0000\", \"day\": 2}, {\"is_overnight\": true, \"start\": \"0000\", \"end\": \"0000\", \"day\": 3}, {\"is_overnight\": true, \"start\": \"0000\", \"end\": \"0000\", \"day\": 4}, {\"is_overnight\": true, \"start\": \"0000\", \"end\": \"0000\", \"day\": 5}, {\"is_overnight\": true, \"start\": \"0000\", \"end\": \"0000\", \"day\": 6}], \"hours_type\": \"REGULAR\", \"is_open_now\": true}], \"attributes\": {\"business_temp_closed\": null, \"menu_url\": \"https://www.mcdonalds.com/us/en-us/full-menu.html?cid=PS:GCM_MOP:NB::Yelp:All\", \"open24_hours\": null, \"waitlist_reservation\": null}}], \"total\": 17, \"region\": {\"center\": {\"longitude\": -87.61613845825195, \"latitude\": 41.836441296622596}}}\n"
     ]
    },
    {
     "name": "stdout",
     "output_type": "stream",
     "text": [
      "\u001b[32m**********************************************************************\u001b[0m\n",
      "\n",
      "--------------------------------------------------------------------------------\n",
      "\u001b[31m\n",
      ">>>>>>>> USING AUTO REPLY...\u001b[0m\n",
      "\u001b[33mAgent\u001b[0m (to User):\n",
      "\n",
      "Here are some burger places within 1200 metres of your location:\n",
      "\n",
      "1. 'Wood's Food and Liquor', '730.98 m'\n",
      "2. '7-Eleven', '843.53 m'\n",
      "3. 'White Castle', '548.79 m'\n",
      "4. 'Best Southtown Gyro', '668.12 m'\n",
      "5. 'Morrison's Soul Food', '1353.16 m'\n",
      "6. 'McDonald's', '1184.91 m'\n",
      "7. 'McDonald's', '749.80 m'\n",
      "\n",
      "TERMINATE\n",
      "\n",
      "--------------------------------------------------------------------------------\n",
      "Provide feedback to Agent. Press enter to skip and use auto-reply, or type 'exit' to end the conversation: Give me the address of the nearest McD\n",
      "\u001b[33mUser\u001b[0m (to Agent):\n",
      "\n",
      "Give me the address of the nearest McD\n",
      "\n",
      "--------------------------------------------------------------------------------\n",
      "\u001b[31m\n",
      ">>>>>>>> USING AUTO REPLY...\u001b[0m\n",
      "\u001b[33mAgent\u001b[0m (to User):\n",
      "\n",
      "The nearest McDonald's is located at:\n",
      "\n",
      "'207 E 35th St, Chicago, IL 60653'\n",
      "\n",
      "If you need more information, feel free to ask!\n",
      "\n",
      "--------------------------------------------------------------------------------\n",
      "Provide feedback to Agent. Press enter to skip and use auto-reply, or type 'exit' to end the conversation: exit\n"
     ]
    }
   ],
   "source": [
    "chat_result = user_proxy.initiate_chat(travel_agent, message=\"Give me burger places within 1200 metres\")"
   ]
  },
  {
   "cell_type": "markdown",
   "id": "80d8527a",
   "metadata": {},
   "source": [
    "## References:"
   ]
  },
  {
   "cell_type": "markdown",
   "id": "5ff960f2",
   "metadata": {},
   "source": [
    "https://microsoft.github.io/autogen/docs/tutorial/tool-use \\\n",
    "https://github.com/areed1192/sigma_coding_youtube/blob/master/python/python-api/yelp-api/Yelp%20API%20-%20Business%20Search.py"
   ]
  }
 ],
 "metadata": {
  "kernelspec": {
   "display_name": "Python 3 (ipykernel)",
   "language": "python",
   "name": "python3"
  },
  "language_info": {
   "codemirror_mode": {
    "name": "ipython",
    "version": 3
   },
   "file_extension": ".py",
   "mimetype": "text/x-python",
   "name": "python",
   "nbconvert_exporter": "python",
   "pygments_lexer": "ipython3",
   "version": "3.11.5"
  }
 },
 "nbformat": 4,
 "nbformat_minor": 5
}
